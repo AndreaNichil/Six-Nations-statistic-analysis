{
 "cells": [
  {
   "cell_type": "code",
   "execution_count": 233,
   "metadata": {},
   "outputs": [],
   "source": [
    "import pandas as pd\n",
    "\n",
    "mixed_table = pd.read_excel('Table mixed.xlsx')\n",
    "players_2019 = pd.read_excel('Players 2019.xlsx')\n",
    "players_2020 = pd.read_excel('Players 2020.xlsx')\n",
    "players_2021 = pd.read_excel('Players 2021.xlsx')\n",
    "players_2019_sample = players_2019.sample(160)\n",
    "players_2020_sample = players_2020.sample(160)\n",
    "players_2021_sample = players_2021.sample(160)"
   ]
  },
  {
   "cell_type": "code",
   "execution_count": 234,
   "metadata": {},
   "outputs": [],
   "source": [
    "import matplotlib.pyplot as plt\n",
    "import seaborn as sns\n",
    "import numpy as np\n",
    "from scipy import stats\n",
    "import scipy.stats as st"
   ]
  },
  {
   "cell_type": "code",
   "execution_count": 235,
   "metadata": {},
   "outputs": [
    {
     "data": {
      "text/plain": [
       "Position                           int64\n",
       "Team                              object\n",
       "Matches                            int64\n",
       "W                                  int64\n",
       "D                                  int64\n",
       "L                                  int64\n",
       "Scored                             int64\n",
       "Conceded                           int64\n",
       "Diff                               int64\n",
       "Tries                              int64\n",
       "Tries conceded                     int64\n",
       "Points/visit to opposition 22    float64\n",
       "Conversions                        int64\n",
       "Missed Conversions                 int64\n",
       "Carries                            int64\n",
       "Line breaks                        int64\n",
       "Passes                             int64\n",
       "Knock Ons                          int64\n",
       "Attempted Tackles                  int64\n",
       "Tackles Made                       int64\n",
       "Dominant Tackles                   int64\n",
       "Total points                       int64\n",
       "Possession                       float64\n",
       "Year                               int64\n",
       "dtype: object"
      ]
     },
     "execution_count": 235,
     "metadata": {},
     "output_type": "execute_result"
    }
   ],
   "source": [
    "#Checking the types present in all the databases I have\n",
    "\n",
    "players_2019_sample.dtypes\n",
    "players_2020_sample.dtypes\n",
    "players_2021_sample.dtypes\n",
    "mixed_table.dtypes"
   ]
  },
  {
   "cell_type": "code",
   "execution_count": 236,
   "metadata": {},
   "outputs": [
    {
     "data": {
      "text/html": [
       "<div>\n",
       "<style scoped>\n",
       "    .dataframe tbody tr th:only-of-type {\n",
       "        vertical-align: middle;\n",
       "    }\n",
       "\n",
       "    .dataframe tbody tr th {\n",
       "        vertical-align: top;\n",
       "    }\n",
       "\n",
       "    .dataframe thead th {\n",
       "        text-align: right;\n",
       "    }\n",
       "</style>\n",
       "<table border=\"1\" class=\"dataframe\">\n",
       "  <thead>\n",
       "    <tr style=\"text-align: right;\">\n",
       "      <th></th>\n",
       "      <th>Position</th>\n",
       "      <th>Team</th>\n",
       "      <th>Matches</th>\n",
       "      <th>W</th>\n",
       "      <th>D</th>\n",
       "      <th>L</th>\n",
       "      <th>Scored</th>\n",
       "      <th>Conceded</th>\n",
       "      <th>Diff</th>\n",
       "      <th>Tries</th>\n",
       "      <th>...</th>\n",
       "      <th>Carries</th>\n",
       "      <th>Line breaks</th>\n",
       "      <th>Passes</th>\n",
       "      <th>Knock Ons</th>\n",
       "      <th>Attempted Tackles</th>\n",
       "      <th>Tackles Made</th>\n",
       "      <th>Dominant Tackles</th>\n",
       "      <th>Total points</th>\n",
       "      <th>Possession</th>\n",
       "      <th>Year</th>\n",
       "    </tr>\n",
       "  </thead>\n",
       "  <tbody>\n",
       "    <tr>\n",
       "      <th>0</th>\n",
       "      <td>1</td>\n",
       "      <td>Wales</td>\n",
       "      <td>5</td>\n",
       "      <td>5</td>\n",
       "      <td>0</td>\n",
       "      <td>0</td>\n",
       "      <td>114</td>\n",
       "      <td>65</td>\n",
       "      <td>49</td>\n",
       "      <td>10</td>\n",
       "      <td>...</td>\n",
       "      <td>548</td>\n",
       "      <td>13</td>\n",
       "      <td>630</td>\n",
       "      <td>32</td>\n",
       "      <td>114</td>\n",
       "      <td>925</td>\n",
       "      <td>70</td>\n",
       "      <td>23</td>\n",
       "      <td>47.8</td>\n",
       "      <td>2019</td>\n",
       "    </tr>\n",
       "    <tr>\n",
       "      <th>1</th>\n",
       "      <td>2</td>\n",
       "      <td>England</td>\n",
       "      <td>5</td>\n",
       "      <td>3</td>\n",
       "      <td>1</td>\n",
       "      <td>1</td>\n",
       "      <td>184</td>\n",
       "      <td>101</td>\n",
       "      <td>83</td>\n",
       "      <td>24</td>\n",
       "      <td>...</td>\n",
       "      <td>596</td>\n",
       "      <td>29</td>\n",
       "      <td>757</td>\n",
       "      <td>41</td>\n",
       "      <td>1164</td>\n",
       "      <td>1030</td>\n",
       "      <td>146</td>\n",
       "      <td>18</td>\n",
       "      <td>45.8</td>\n",
       "      <td>2019</td>\n",
       "    </tr>\n",
       "    <tr>\n",
       "      <th>2</th>\n",
       "      <td>3</td>\n",
       "      <td>Ireland</td>\n",
       "      <td>5</td>\n",
       "      <td>3</td>\n",
       "      <td>0</td>\n",
       "      <td>2</td>\n",
       "      <td>101</td>\n",
       "      <td>100</td>\n",
       "      <td>1</td>\n",
       "      <td>14</td>\n",
       "      <td>...</td>\n",
       "      <td>72</td>\n",
       "      <td>18</td>\n",
       "      <td>948</td>\n",
       "      <td>45</td>\n",
       "      <td>795</td>\n",
       "      <td>771</td>\n",
       "      <td>56</td>\n",
       "      <td>14</td>\n",
       "      <td>57.8</td>\n",
       "      <td>2019</td>\n",
       "    </tr>\n",
       "    <tr>\n",
       "      <th>3</th>\n",
       "      <td>4</td>\n",
       "      <td>France</td>\n",
       "      <td>5</td>\n",
       "      <td>2</td>\n",
       "      <td>0</td>\n",
       "      <td>3</td>\n",
       "      <td>93</td>\n",
       "      <td>118</td>\n",
       "      <td>-25</td>\n",
       "      <td>12</td>\n",
       "      <td>...</td>\n",
       "      <td>581</td>\n",
       "      <td>21</td>\n",
       "      <td>679</td>\n",
       "      <td>44</td>\n",
       "      <td>979</td>\n",
       "      <td>880</td>\n",
       "      <td>76</td>\n",
       "      <td>10</td>\n",
       "      <td>49.6</td>\n",
       "      <td>2019</td>\n",
       "    </tr>\n",
       "    <tr>\n",
       "      <th>4</th>\n",
       "      <td>5</td>\n",
       "      <td>Scotland</td>\n",
       "      <td>5</td>\n",
       "      <td>1</td>\n",
       "      <td>1</td>\n",
       "      <td>3</td>\n",
       "      <td>105</td>\n",
       "      <td>125</td>\n",
       "      <td>-20</td>\n",
       "      <td>14</td>\n",
       "      <td>...</td>\n",
       "      <td>676</td>\n",
       "      <td>22</td>\n",
       "      <td>919</td>\n",
       "      <td>28</td>\n",
       "      <td>1125</td>\n",
       "      <td>1001</td>\n",
       "      <td>88</td>\n",
       "      <td>9</td>\n",
       "      <td>50.0</td>\n",
       "      <td>2019</td>\n",
       "    </tr>\n",
       "    <tr>\n",
       "      <th>5</th>\n",
       "      <td>6</td>\n",
       "      <td>Italy</td>\n",
       "      <td>5</td>\n",
       "      <td>0</td>\n",
       "      <td>0</td>\n",
       "      <td>5</td>\n",
       "      <td>79</td>\n",
       "      <td>167</td>\n",
       "      <td>-88</td>\n",
       "      <td>10</td>\n",
       "      <td>...</td>\n",
       "      <td>635</td>\n",
       "      <td>17</td>\n",
       "      <td>771</td>\n",
       "      <td>27</td>\n",
       "      <td>959</td>\n",
       "      <td>855</td>\n",
       "      <td>50</td>\n",
       "      <td>0</td>\n",
       "      <td>49.0</td>\n",
       "      <td>2019</td>\n",
       "    </tr>\n",
       "    <tr>\n",
       "      <th>6</th>\n",
       "      <td>1</td>\n",
       "      <td>England</td>\n",
       "      <td>5</td>\n",
       "      <td>4</td>\n",
       "      <td>0</td>\n",
       "      <td>1</td>\n",
       "      <td>121</td>\n",
       "      <td>77</td>\n",
       "      <td>44</td>\n",
       "      <td>14</td>\n",
       "      <td>...</td>\n",
       "      <td>454</td>\n",
       "      <td>15</td>\n",
       "      <td>590</td>\n",
       "      <td>32</td>\n",
       "      <td>877</td>\n",
       "      <td>795</td>\n",
       "      <td>117</td>\n",
       "      <td>18</td>\n",
       "      <td>48.4</td>\n",
       "      <td>2020</td>\n",
       "    </tr>\n",
       "    <tr>\n",
       "      <th>7</th>\n",
       "      <td>2</td>\n",
       "      <td>France</td>\n",
       "      <td>5</td>\n",
       "      <td>4</td>\n",
       "      <td>0</td>\n",
       "      <td>1</td>\n",
       "      <td>138</td>\n",
       "      <td>117</td>\n",
       "      <td>21</td>\n",
       "      <td>17</td>\n",
       "      <td>...</td>\n",
       "      <td>536</td>\n",
       "      <td>20</td>\n",
       "      <td>547</td>\n",
       "      <td>34</td>\n",
       "      <td>976</td>\n",
       "      <td>879</td>\n",
       "      <td>98</td>\n",
       "      <td>18</td>\n",
       "      <td>45.8</td>\n",
       "      <td>2020</td>\n",
       "    </tr>\n",
       "    <tr>\n",
       "      <th>8</th>\n",
       "      <td>3</td>\n",
       "      <td>Ireland</td>\n",
       "      <td>5</td>\n",
       "      <td>3</td>\n",
       "      <td>0</td>\n",
       "      <td>2</td>\n",
       "      <td>132</td>\n",
       "      <td>102</td>\n",
       "      <td>30</td>\n",
       "      <td>17</td>\n",
       "      <td>...</td>\n",
       "      <td>620</td>\n",
       "      <td>29</td>\n",
       "      <td>785</td>\n",
       "      <td>20</td>\n",
       "      <td>793</td>\n",
       "      <td>711</td>\n",
       "      <td>58</td>\n",
       "      <td>14</td>\n",
       "      <td>53.8</td>\n",
       "      <td>2020</td>\n",
       "    </tr>\n",
       "    <tr>\n",
       "      <th>9</th>\n",
       "      <td>4</td>\n",
       "      <td>Scotland</td>\n",
       "      <td>5</td>\n",
       "      <td>3</td>\n",
       "      <td>0</td>\n",
       "      <td>2</td>\n",
       "      <td>77</td>\n",
       "      <td>59</td>\n",
       "      <td>18</td>\n",
       "      <td>7</td>\n",
       "      <td>...</td>\n",
       "      <td>553</td>\n",
       "      <td>22</td>\n",
       "      <td>645</td>\n",
       "      <td>25</td>\n",
       "      <td>818</td>\n",
       "      <td>757</td>\n",
       "      <td>76</td>\n",
       "      <td>14</td>\n",
       "      <td>50.6</td>\n",
       "      <td>2020</td>\n",
       "    </tr>\n",
       "    <tr>\n",
       "      <th>10</th>\n",
       "      <td>5</td>\n",
       "      <td>Wales</td>\n",
       "      <td>5</td>\n",
       "      <td>1</td>\n",
       "      <td>0</td>\n",
       "      <td>4</td>\n",
       "      <td>119</td>\n",
       "      <td>98</td>\n",
       "      <td>21</td>\n",
       "      <td>13</td>\n",
       "      <td>...</td>\n",
       "      <td>633</td>\n",
       "      <td>23</td>\n",
       "      <td>862</td>\n",
       "      <td>35</td>\n",
       "      <td>857</td>\n",
       "      <td>779</td>\n",
       "      <td>62</td>\n",
       "      <td>8</td>\n",
       "      <td>51.8</td>\n",
       "      <td>2020</td>\n",
       "    </tr>\n",
       "    <tr>\n",
       "      <th>11</th>\n",
       "      <td>6</td>\n",
       "      <td>Italy</td>\n",
       "      <td>5</td>\n",
       "      <td>0</td>\n",
       "      <td>0</td>\n",
       "      <td>5</td>\n",
       "      <td>44</td>\n",
       "      <td>178</td>\n",
       "      <td>-134</td>\n",
       "      <td>6</td>\n",
       "      <td>...</td>\n",
       "      <td>604</td>\n",
       "      <td>20</td>\n",
       "      <td>806</td>\n",
       "      <td>14</td>\n",
       "      <td>879</td>\n",
       "      <td>782</td>\n",
       "      <td>61</td>\n",
       "      <td>0</td>\n",
       "      <td>50.0</td>\n",
       "      <td>2020</td>\n",
       "    </tr>\n",
       "    <tr>\n",
       "      <th>12</th>\n",
       "      <td>1</td>\n",
       "      <td>France</td>\n",
       "      <td>2</td>\n",
       "      <td>2</td>\n",
       "      <td>0</td>\n",
       "      <td>0</td>\n",
       "      <td>65</td>\n",
       "      <td>23</td>\n",
       "      <td>42</td>\n",
       "      <td>9</td>\n",
       "      <td>...</td>\n",
       "      <td>191</td>\n",
       "      <td>15</td>\n",
       "      <td>214</td>\n",
       "      <td>7</td>\n",
       "      <td>381</td>\n",
       "      <td>338</td>\n",
       "      <td>14</td>\n",
       "      <td>9</td>\n",
       "      <td>43.5</td>\n",
       "      <td>2021</td>\n",
       "    </tr>\n",
       "    <tr>\n",
       "      <th>13</th>\n",
       "      <td>2</td>\n",
       "      <td>Wales</td>\n",
       "      <td>2</td>\n",
       "      <td>2</td>\n",
       "      <td>0</td>\n",
       "      <td>0</td>\n",
       "      <td>46</td>\n",
       "      <td>40</td>\n",
       "      <td>6</td>\n",
       "      <td>6</td>\n",
       "      <td>...</td>\n",
       "      <td>173</td>\n",
       "      <td>8</td>\n",
       "      <td>249</td>\n",
       "      <td>5</td>\n",
       "      <td>486</td>\n",
       "      <td>433</td>\n",
       "      <td>12</td>\n",
       "      <td>9</td>\n",
       "      <td>38.5</td>\n",
       "      <td>2021</td>\n",
       "    </tr>\n",
       "    <tr>\n",
       "      <th>14</th>\n",
       "      <td>3</td>\n",
       "      <td>England</td>\n",
       "      <td>2</td>\n",
       "      <td>1</td>\n",
       "      <td>0</td>\n",
       "      <td>1</td>\n",
       "      <td>47</td>\n",
       "      <td>29</td>\n",
       "      <td>18</td>\n",
       "      <td>6</td>\n",
       "      <td>...</td>\n",
       "      <td>209</td>\n",
       "      <td>11</td>\n",
       "      <td>284</td>\n",
       "      <td>4</td>\n",
       "      <td>305</td>\n",
       "      <td>261</td>\n",
       "      <td>11</td>\n",
       "      <td>6</td>\n",
       "      <td>48.5</td>\n",
       "      <td>2021</td>\n",
       "    </tr>\n",
       "    <tr>\n",
       "      <th>15</th>\n",
       "      <td>4</td>\n",
       "      <td>Scotland</td>\n",
       "      <td>2</td>\n",
       "      <td>1</td>\n",
       "      <td>0</td>\n",
       "      <td>1</td>\n",
       "      <td>35</td>\n",
       "      <td>31</td>\n",
       "      <td>4</td>\n",
       "      <td>4</td>\n",
       "      <td>...</td>\n",
       "      <td>270</td>\n",
       "      <td>15</td>\n",
       "      <td>283</td>\n",
       "      <td>3</td>\n",
       "      <td>212</td>\n",
       "      <td>195</td>\n",
       "      <td>4</td>\n",
       "      <td>5</td>\n",
       "      <td>62.0</td>\n",
       "      <td>2021</td>\n",
       "    </tr>\n",
       "    <tr>\n",
       "      <th>16</th>\n",
       "      <td>5</td>\n",
       "      <td>Ireland</td>\n",
       "      <td>2</td>\n",
       "      <td>0</td>\n",
       "      <td>0</td>\n",
       "      <td>2</td>\n",
       "      <td>29</td>\n",
       "      <td>36</td>\n",
       "      <td>-7</td>\n",
       "      <td>2</td>\n",
       "      <td>...</td>\n",
       "      <td>322</td>\n",
       "      <td>8</td>\n",
       "      <td>454</td>\n",
       "      <td>5</td>\n",
       "      <td>259</td>\n",
       "      <td>217</td>\n",
       "      <td>4</td>\n",
       "      <td>2</td>\n",
       "      <td>58.5</td>\n",
       "      <td>2021</td>\n",
       "    </tr>\n",
       "    <tr>\n",
       "      <th>17</th>\n",
       "      <td>6</td>\n",
       "      <td>Italy</td>\n",
       "      <td>2</td>\n",
       "      <td>0</td>\n",
       "      <td>0</td>\n",
       "      <td>2</td>\n",
       "      <td>28</td>\n",
       "      <td>91</td>\n",
       "      <td>-63</td>\n",
       "      <td>3</td>\n",
       "      <td>...</td>\n",
       "      <td>239</td>\n",
       "      <td>11</td>\n",
       "      <td>321</td>\n",
       "      <td>1</td>\n",
       "      <td>298</td>\n",
       "      <td>245</td>\n",
       "      <td>7</td>\n",
       "      <td>0</td>\n",
       "      <td>49.0</td>\n",
       "      <td>2021</td>\n",
       "    </tr>\n",
       "  </tbody>\n",
       "</table>\n",
       "<p>18 rows × 24 columns</p>\n",
       "</div>"
      ],
      "text/plain": [
       "    Position       Team  Matches  W  D  L  Scored  Conceded  Diff  Tries  ...  \\\n",
       "0          1      Wales        5  5  0  0     114        65    49     10  ...   \n",
       "1          2    England        5  3  1  1     184       101    83     24  ...   \n",
       "2          3    Ireland        5  3  0  2     101       100     1     14  ...   \n",
       "3          4     France        5  2  0  3      93       118   -25     12  ...   \n",
       "4          5   Scotland        5  1  1  3     105       125   -20     14  ...   \n",
       "5          6      Italy        5  0  0  5      79       167   -88     10  ...   \n",
       "6          1    England        5  4  0  1     121        77    44     14  ...   \n",
       "7          2     France        5  4  0  1     138       117    21     17  ...   \n",
       "8          3    Ireland        5  3  0  2     132       102    30     17  ...   \n",
       "9          4   Scotland        5  3  0  2      77        59    18      7  ...   \n",
       "10         5      Wales        5  1  0  4     119        98    21     13  ...   \n",
       "11         6      Italy        5  0  0  5      44       178  -134      6  ...   \n",
       "12         1     France        2  2  0  0      65        23    42      9  ...   \n",
       "13         2      Wales        2  2  0  0      46        40     6      6  ...   \n",
       "14         3    England        2  1  0  1      47        29    18      6  ...   \n",
       "15         4   Scotland        2  1  0  1      35        31     4      4  ...   \n",
       "16         5    Ireland        2  0  0  2      29        36    -7      2  ...   \n",
       "17         6      Italy        2  0  0  2      28        91   -63      3  ...   \n",
       "\n",
       "    Carries  Line breaks  Passes  Knock Ons  Attempted Tackles  Tackles Made  \\\n",
       "0       548           13     630         32                114           925   \n",
       "1       596           29     757         41               1164          1030   \n",
       "2        72           18     948         45                795           771   \n",
       "3       581           21     679         44                979           880   \n",
       "4       676           22     919         28               1125          1001   \n",
       "5       635           17     771         27                959           855   \n",
       "6       454           15     590         32                877           795   \n",
       "7       536           20     547         34                976           879   \n",
       "8       620           29     785         20                793           711   \n",
       "9       553           22     645         25                818           757   \n",
       "10      633           23     862         35                857           779   \n",
       "11      604           20     806         14                879           782   \n",
       "12      191           15     214          7                381           338   \n",
       "13      173            8     249          5                486           433   \n",
       "14      209           11     284          4                305           261   \n",
       "15      270           15     283          3                212           195   \n",
       "16      322            8     454          5                259           217   \n",
       "17      239           11     321          1                298           245   \n",
       "\n",
       "    Dominant Tackles  Total points  Possession  Year  \n",
       "0                 70            23        47.8  2019  \n",
       "1                146            18        45.8  2019  \n",
       "2                 56            14        57.8  2019  \n",
       "3                 76            10        49.6  2019  \n",
       "4                 88             9        50.0  2019  \n",
       "5                 50             0        49.0  2019  \n",
       "6                117            18        48.4  2020  \n",
       "7                 98            18        45.8  2020  \n",
       "8                 58            14        53.8  2020  \n",
       "9                 76            14        50.6  2020  \n",
       "10                62             8        51.8  2020  \n",
       "11                61             0        50.0  2020  \n",
       "12                14             9        43.5  2021  \n",
       "13                12             9        38.5  2021  \n",
       "14                11             6        48.5  2021  \n",
       "15                 4             5        62.0  2021  \n",
       "16                 4             2        58.5  2021  \n",
       "17                 7             0        49.0  2021  \n",
       "\n",
       "[18 rows x 24 columns]"
      ]
     },
     "metadata": {},
     "output_type": "display_data"
    }
   ],
   "source": [
    "display(mixed_table)"
   ]
  },
  {
   "cell_type": "code",
   "execution_count": 237,
   "metadata": {},
   "outputs": [],
   "source": [
    "high_scoring = mixed_table[mixed_table['Diff']>20]\n",
    "low_scoring = mixed_table[mixed_table['Diff']<20]\n",
    "\n"
   ]
  },
  {
   "cell_type": "code",
   "execution_count": 238,
   "metadata": {},
   "outputs": [
    {
     "data": {
      "text/plain": [
       "0     11.70\n",
       "1     14.84\n",
       "2     13.52\n",
       "3     12.85\n",
       "4     11.95\n",
       "5      8.80\n",
       "6     13.25\n",
       "7     13.36\n",
       "8      5.31\n",
       "9      5.71\n",
       "10    12.81\n",
       "11     2.46\n",
       "12     5.60\n",
       "13     6.40\n",
       "14     3.00\n",
       "15     2.56\n",
       "16     2.63\n",
       "17     2.64\n",
       "Name: Points/visit to opposition 22, dtype: float64"
      ]
     },
     "execution_count": 238,
     "metadata": {},
     "output_type": "execute_result"
    }
   ],
   "source": [
    "#mixed_table.columns.tolist()\n",
    "mixed_table['Points/visit to opposition 22']"
   ]
  },
  {
   "cell_type": "code",
   "execution_count": 239,
   "metadata": {},
   "outputs": [
    {
     "data": {
      "text/plain": [
       "Ttest_indResult(statistic=1.1754696193441692, pvalue=0.25700288820466116)"
      ]
     },
     "execution_count": 239,
     "metadata": {},
     "output_type": "execute_result"
    }
   ],
   "source": [
    "#First thing I would like to check is whether a higher possession means also more points, \n",
    "#I will use the mixed table for this purpose\n",
    "\n",
    "high_scoring = mixed_table[mixed_table['Diff']>20]\n",
    "low_scoring = mixed_table[mixed_table['Diff']<20]\n",
    "low_s_possession = low_scoring['Possession']\n",
    "high_s_possession = high_scoring['Possession']\n",
    "stats.ttest_ind(low_s_possession,high_s_possession)\n",
    "\n",
    "#Being the pvalue very high we can accept the hypothesis. So having a lower possession over the ball \n",
    "#does not mean scoring less points."
   ]
  },
  {
   "cell_type": "code",
   "execution_count": 240,
   "metadata": {
    "scrolled": true
   },
   "outputs": [
    {
     "name": "stdout",
     "output_type": "stream",
     "text": [
      "(6.109618577085573, 10.489270311803313)\n"
     ]
    },
    {
     "data": {
      "text/plain": [
       "Ttest_indResult(statistic=2.132886990250231, pvalue=0.048770497215068265)"
      ]
     },
     "execution_count": 240,
     "metadata": {},
     "output_type": "execute_result"
    }
   ],
   "source": [
    "#Let's also check if the value of 'Points/visit to opposition 22' affects the total point scored.\n",
    "#First, let's see what is the average of 'Points/visit to opposition 22':\n",
    "\n",
    "points_22 = mixed_table['Points/visit to opposition 22']\n",
    "std = points_22.std()\n",
    "mean = points_22.mean()\n",
    "n=20\n",
    "\n",
    "\n",
    "print(st.t.interval(0.95,n-1, loc=mean, scale=std/np.sqrt(n)))\n",
    "\n",
    "\n",
    "#Are they independent?\n",
    "high_points = mixed_table[mixed_table['Diff']>20]\n",
    "low_points = mixed_table[mixed_table['Diff']<20]\n",
    "low_p_22_scoring = low_points['Points/visit to opposition 22']\n",
    "high_p_22_scoring = high_points['Points/visit to opposition 22']\n",
    "\n",
    "stats.ttest_ind(high_p_22_scoring,low_p_22_scoring)\n",
    "\n",
    "#We can reject the h0\n",
    "#If you have a higher points 22, there is evidence that it leads to win more.\n",
    "\n"
   ]
  },
  {
   "cell_type": "code",
   "execution_count": 241,
   "metadata": {},
   "outputs": [
    {
     "data": {
      "text/plain": [
       "Ttest_indResult(statistic=1.463170728344971, pvalue=0.1627880463276268)"
      ]
     },
     "execution_count": 241,
     "metadata": {},
     "output_type": "execute_result"
    }
   ],
   "source": [
    "#Do more knock ons mean less points?\n",
    "#mixed_table['Knock Ons'].mean()\n",
    "low_knock_ons = low_points['Knock Ons']\n",
    "\n",
    "high_knock_ons = high_points['Knock Ons']\n",
    "\n",
    "\n",
    "stats.ttest_ind(high_knock_ons,low_knock_ons)\n",
    "\n",
    "#Pvalue has a high value which means we cannot reject this hypothesis\n",
    "#But what can be the one affecting it the most then? "
   ]
  },
  {
   "cell_type": "code",
   "execution_count": 242,
   "metadata": {},
   "outputs": [
    {
     "data": {
      "text/plain": [
       "Ttest_indResult(statistic=2.425642590497127, pvalue=0.02836508894611877)"
      ]
     },
     "execution_count": 242,
     "metadata": {},
     "output_type": "execute_result"
    }
   ],
   "source": [
    "#Maybe the problem is in the defence? When you do a dominant tackle you discourage a bit the attack of your opponents\n",
    "#I can check then if the number of dominant tackles ifluence the points conceeded.\n",
    "\n",
    "high_conceded = mixed_table[mixed_table['Conceded']>100]\n",
    "low_conceded = mixed_table[mixed_table['Conceded']<100]\n",
    "low_defense = low_conceded['Dominant Tackles']\n",
    "high_defense = high_conceded['Dominant Tackles']\n",
    "stats.ttest_ind(high_defense,low_defense)\n",
    "\n",
    "#Low pvalue, so we can rejectd the null hypothesis.\n",
    "#Dominant Tackles are influencing the points conceded."
   ]
  },
  {
   "cell_type": "code",
   "execution_count": 243,
   "metadata": {},
   "outputs": [
    {
     "name": "stdout",
     "output_type": "stream",
     "text": [
      "Italian dominant tackles average:  39.333333333333336\n",
      "Other teams dominant tackles average:  59.46666666666667\n",
      "Confidence interval of Italian dominant tackles is between: (25.977827915238205, 52.68883875142846)\n",
      "Confidence interval of the other teams dominant tackles is between: (39.06726085277818, 79.86607248055515)\n"
     ]
    }
   ],
   "source": [
    "#What is the average of dominant tackles for Italy compared to the average of the other teams?\n",
    "italy_table = mixed_table[mixed_table['Team']=='\\xa0Italy']\n",
    "print('Italian dominant tackles average: ',italy_table['Dominant Tackles'].mean())\n",
    "other_teams = mixed_table[mixed_table['Team']!='\\xa0Italy']\n",
    "print('Other teams dominant tackles average: ',other_teams['Dominant Tackles'].mean())\n",
    "\n",
    "#DO THE CONFIDENCE INTERVAL FOR ITALY:\n",
    "dominant_tackles_ita = italy_table['Dominant Tackles']\n",
    "std = dominant_tackles.std()\n",
    "mean = dominant_tackles.mean()\n",
    "n=20\n",
    "print('Confidence interval of Italian dominant tackles is between:',\n",
    "      st.t.interval(0.95,n-1, loc=mean, scale=std/np.sqrt(n)))\n",
    "\n",
    "#DO THE CONFIDENCE INTERVAL FOR THE OTHER TEAMS:\n",
    "dominant_tackles_others = other_teams['Dominant Tackles']\n",
    "std = dominant_tackles_others.std()\n",
    "mean = dominant_tackles_others.mean()\n",
    "n=20\n",
    "print('Confidence interval of the other teams dominant tackles is between:',\n",
    "      st.t.interval(0.95,n-1, loc=mean, scale=std/np.sqrt(n)))\n",
    "\n",
    "#As we can see the italian average is considerably lower than the other teams.\n",
    "#This may actually be a problem for the italian squad."
   ]
  },
  {
   "cell_type": "code",
   "execution_count": 244,
   "metadata": {},
   "outputs": [
    {
     "name": "stdout",
     "output_type": "stream",
     "text": [
      "Tries of scrum players:  18\n",
      "Tries of back players:  55\n"
     ]
    }
   ],
   "source": [
    "#In terms of player positions, how do teams play? Are there different patterns? Which roles score more points?\n",
    "#Are they changing through the years?\n",
    "players_2019.head()\n",
    "players_2019_others = players_2019[players_2019['Nationality']!='Italy']\n",
    "scrum_players_2019 = players_2019_others[players_2019_others['Positions']==0]\n",
    "back_players_2019 = players_2019_others[players_2019_others['Positions']==1]\n",
    "print('Tries of scrum players: ',scrum_players_2019['Tries'].sum())\n",
    "print('Tries of back players: ',back_players_2019['Tries'].sum())"
   ]
  },
  {
   "cell_type": "code",
   "execution_count": 245,
   "metadata": {},
   "outputs": [
    {
     "name": "stdout",
     "output_type": "stream",
     "text": [
      "Tries of scrum players:  24\n",
      "Tries of back players:  44\n"
     ]
    }
   ],
   "source": [
    "players_2020.head()\n",
    "players_2020_others = players_2020[players_2020['Nationality']!='Italy']\n",
    "scrum_players_2020 = players_2020_others[players_2020_others['Positions']==0]\n",
    "back_players_2020 = players_2020_others[players_2020_others['Positions']==1]\n",
    "print('Tries of scrum players: ',scrum_players_2020['Tries'].sum())\n",
    "print('Tries of back players: ',back_players_2020['Tries'].sum())"
   ]
  },
  {
   "cell_type": "code",
   "execution_count": 246,
   "metadata": {},
   "outputs": [
    {
     "name": "stdout",
     "output_type": "stream",
     "text": [
      "Tries of scrum players:  7\n",
      "Tries of back players:  20\n"
     ]
    }
   ],
   "source": [
    "players_2021.head()\n",
    "\n",
    "players_2021_others = players_2021[players_2021['Nationality']!='Italy']\n",
    "scrum_players_2021 = players_2021_others[players_2021_others['Positions']==0]\n",
    "back_players_2021 = players_2021_others[players_2021_others['Positions']==1]\n",
    "print('Tries of scrum players: ',scrum_players_2021['Tries'].sum())\n",
    "print('Tries of back players: ',back_players_2021['Tries'].sum())\n",
    "\n",
    "#So back players score on average a higher number of tries even though we can se that from 2019 to 2020\n",
    "#they got a closer average. And even if the tournament of 2021 has just started it seems to follow the same pattern of 2019"
   ]
  },
  {
   "cell_type": "code",
   "execution_count": 247,
   "metadata": {},
   "outputs": [
    {
     "name": "stdout",
     "output_type": "stream",
     "text": [
      "Tries of italian scrum players in 2019:  1\n",
      "Tries of italian back players in 2019:  9\n"
     ]
    }
   ],
   "source": [
    "#But how is Italy doing? What playing style do they have?\n",
    "#Let's start from the situation in 2019\n",
    "\n",
    "italian_players_2019 = players_2019[players_2019['Nationality']=='Italy']\n",
    "italian_backs_2019 = italian_players_2019[italian_players_2019['Positions']==1]\n",
    "italian_scrum_2019 = italian_players_2019[italian_players_2019['Positions']==0]\n",
    "print('Tries of italian scrum players in 2019: ',italian_scrum_2019['Tries'].sum())\n",
    "print('Tries of italian back players in 2019: ',italian_backs_2019['Tries'].sum())"
   ]
  },
  {
   "cell_type": "code",
   "execution_count": 248,
   "metadata": {},
   "outputs": [
    {
     "name": "stdout",
     "output_type": "stream",
     "text": [
      "Tries of italian scrum players in 2020:  2\n",
      "Tries of italian back players in 2020:  4\n"
     ]
    }
   ],
   "source": [
    "#What happened in 2020?\n",
    "\n",
    "italian_players_2020 = players_2020[players_2020['Nationality']=='Italy']\n",
    "italian_backs_2020 = italian_players_2020[italian_players_2020['Positions']==1]\n",
    "italian_scrum_2020 = italian_players_2020[italian_players_2020['Positions']==0]\n",
    "print('Tries of italian scrum players in 2020: ',italian_scrum_2020['Tries'].sum())\n",
    "print('Tries of italian back players in 2020: ',italian_backs_2020['Tries'].sum())"
   ]
  },
  {
   "cell_type": "code",
   "execution_count": 249,
   "metadata": {},
   "outputs": [
    {
     "name": "stdout",
     "output_type": "stream",
     "text": [
      "Tries of italian scrum players in 2021:  0\n",
      "Tries of italian back players in 2021:  3\n"
     ]
    }
   ],
   "source": [
    "#What about 2021 so far?\n",
    "\n",
    "italian_players_2021 = players_2021[players_2021['Nationality']=='Italy']\n",
    "italian_backs_2021 = italian_players_2021[italian_players_2021['Positions']==1]\n",
    "italian_scrum_2021 = italian_players_2021[italian_players_2021['Positions']==0]\n",
    "print('Tries of italian scrum players in 2021: ',italian_scrum_2021['Tries'].sum())\n",
    "print('Tries of italian back players in 2021: ',italian_backs_2021['Tries'].sum())"
   ]
  },
  {
   "cell_type": "code",
   "execution_count": 250,
   "metadata": {},
   "outputs": [
    {
     "data": {
      "text/html": [
       "<div>\n",
       "<style scoped>\n",
       "    .dataframe tbody tr th:only-of-type {\n",
       "        vertical-align: middle;\n",
       "    }\n",
       "\n",
       "    .dataframe tbody tr th {\n",
       "        vertical-align: top;\n",
       "    }\n",
       "\n",
       "    .dataframe thead th {\n",
       "        text-align: right;\n",
       "    }\n",
       "</style>\n",
       "<table border=\"1\" class=\"dataframe\">\n",
       "  <thead>\n",
       "    <tr style=\"text-align: right;\">\n",
       "      <th></th>\n",
       "      <th>Nationality</th>\n",
       "      <th>PLAYER</th>\n",
       "      <th>Minutes played</th>\n",
       "      <th>Tries</th>\n",
       "      <th>Conversions</th>\n",
       "      <th>Carries</th>\n",
       "      <th>Passes</th>\n",
       "      <th>Knock Ons</th>\n",
       "      <th>Tackles Made</th>\n",
       "      <th>Missed tackles</th>\n",
       "      <th>Dominant Tackles</th>\n",
       "      <th>Year</th>\n",
       "      <th>Position</th>\n",
       "    </tr>\n",
       "  </thead>\n",
       "  <tbody>\n",
       "    <tr>\n",
       "      <th>0</th>\n",
       "      <td>Italy</td>\n",
       "      <td>Jayden Hayward</td>\n",
       "      <td>400</td>\n",
       "      <td>0</td>\n",
       "      <td>0</td>\n",
       "      <td>42</td>\n",
       "      <td>52</td>\n",
       "      <td>2</td>\n",
       "      <td>26</td>\n",
       "      <td>3</td>\n",
       "      <td>1</td>\n",
       "      <td>2019</td>\n",
       "      <td>1</td>\n",
       "    </tr>\n",
       "    <tr>\n",
       "      <th>1</th>\n",
       "      <td>Ireland</td>\n",
       "      <td>Peter O'Mahony</td>\n",
       "      <td>400</td>\n",
       "      <td>0</td>\n",
       "      <td>0</td>\n",
       "      <td>32</td>\n",
       "      <td>25</td>\n",
       "      <td>2</td>\n",
       "      <td>50</td>\n",
       "      <td>6</td>\n",
       "      <td>2</td>\n",
       "      <td>2019</td>\n",
       "      <td>0</td>\n",
       "    </tr>\n",
       "    <tr>\n",
       "      <th>2</th>\n",
       "      <td>England</td>\n",
       "      <td>Elliot Daly</td>\n",
       "      <td>400</td>\n",
       "      <td>1</td>\n",
       "      <td>0</td>\n",
       "      <td>45</td>\n",
       "      <td>38</td>\n",
       "      <td>3</td>\n",
       "      <td>12</td>\n",
       "      <td>6</td>\n",
       "      <td>2</td>\n",
       "      <td>2019</td>\n",
       "      <td>1</td>\n",
       "    </tr>\n",
       "    <tr>\n",
       "      <th>3</th>\n",
       "      <td>Wales</td>\n",
       "      <td>Josh Adams</td>\n",
       "      <td>400</td>\n",
       "      <td>3</td>\n",
       "      <td>0</td>\n",
       "      <td>39</td>\n",
       "      <td>9</td>\n",
       "      <td>3</td>\n",
       "      <td>17</td>\n",
       "      <td>4</td>\n",
       "      <td>2</td>\n",
       "      <td>2019</td>\n",
       "      <td>1</td>\n",
       "    </tr>\n",
       "    <tr>\n",
       "      <th>4</th>\n",
       "      <td>Wales</td>\n",
       "      <td>Jonathan Davies</td>\n",
       "      <td>400</td>\n",
       "      <td>1</td>\n",
       "      <td>0</td>\n",
       "      <td>26</td>\n",
       "      <td>16</td>\n",
       "      <td>1</td>\n",
       "      <td>47</td>\n",
       "      <td>5</td>\n",
       "      <td>3</td>\n",
       "      <td>2019</td>\n",
       "      <td>1</td>\n",
       "    </tr>\n",
       "  </tbody>\n",
       "</table>\n",
       "</div>"
      ],
      "text/plain": [
       "  Nationality            PLAYER  Minutes played  Tries  Conversions  Carries   \\\n",
       "0       Italy    Jayden Hayward             400      0            0        42   \n",
       "1     Ireland    Peter O'Mahony             400      0            0        32   \n",
       "2     England       Elliot Daly             400      1            0        45   \n",
       "3       Wales        Josh Adams             400      3            0        39   \n",
       "4       Wales   Jonathan Davies             400      1            0        26   \n",
       "\n",
       "   Passes  Knock Ons   Tackles Made   Missed tackles  Dominant Tackles  Year  \\\n",
       "0      52           2             26               3                 1  2019   \n",
       "1      25           2             50               6                 2  2019   \n",
       "2      38           3             12               6                 2  2019   \n",
       "3       9           3             17               4                 2  2019   \n",
       "4      16           1             47               5                 3  2019   \n",
       "\n",
       "   Position  \n",
       "0         1  \n",
       "1         0  \n",
       "2         1  \n",
       "3         1  \n",
       "4         1  "
      ]
     },
     "execution_count": 250,
     "metadata": {},
     "output_type": "execute_result"
    }
   ],
   "source": [
    "#So far we observed that Italy follows the average trends, \n",
    "#which also means that its stronger point stays in the backs players for the attack,\n",
    "#let's go check then something else.\n",
    "#What can we say now about their defensive skills? First I will analyze the average for all the players\n",
    "#and then the italians.\n",
    "players_2019.head()"
   ]
  },
  {
   "cell_type": "code",
   "execution_count": 251,
   "metadata": {},
   "outputs": [],
   "source": [
    "#We'll check for both Tackles Made and Missed Tackles.\n",
    "#But as we also see in the 'mixed table', the Dominant tackles are influencing the negative score we'll\n",
    "#also analyze that.\n",
    "#First Tackles Made"
   ]
  },
  {
   "cell_type": "code",
   "execution_count": 252,
   "metadata": {
    "scrolled": true
   },
   "outputs": [],
   "source": [
    "#Let's create a function to make the job easier:\n",
    "def confidence_calculator(x):\n",
    "    std = x.std()\n",
    "    mean = x.mean()\n",
    "    n=25\n",
    "    return 'Confidence interval is between:',st.t.interval(0.95,n-1, loc=mean, scale=std/np.sqrt(n))\n"
   ]
  },
  {
   "cell_type": "code",
   "execution_count": 253,
   "metadata": {},
   "outputs": [
    {
     "name": "stdout",
     "output_type": "stream",
     "text": [
      "Tackles Scrum players 2019\n",
      "('Confidence interval is between:', (22.67264264631446, 43.03569068701887))\n",
      "Tackles Back players 2019\n",
      "('Confidence interval is between:', (13.712554513294817, 26.66425708090808))\n",
      "Tackles Scrum players 2020\n",
      "('Confidence interval is between:', (20.89654664307842, 39.507947738944054))\n",
      "Tackles Back players 2020\n",
      "('Confidence interval is between:', (10.611218522385329, 21.81131668888228))\n",
      "Tackles Scrum players 2021\n",
      "('Confidence interval is between:', (9.201104177968247, 17.94556248869842))\n",
      "Tackles Back players 2021\n",
      "('Confidence interval is between:', (4.818742171607271, 9.08125782839273))\n"
     ]
    }
   ],
   "source": [
    "scrum = [scrum_players_2020, scrum_players_2021]\n",
    "back = [back_players_2020,back_players_2021]\n",
    "years = zip(scrum,back)\n",
    "count = 2020\n",
    "\n",
    "print('Tackles Scrum players 2019')\n",
    "print(confidence_calculator(scrum_players_2019['Tackles Made\\xa0']))\n",
    "print('Tackles Back players 2019')\n",
    "print(confidence_calculator(back_players_2019['Tackles Made\\xa0']))\n",
    "\n",
    "\n",
    "for s, b in years:\n",
    "    print(f'Tackles Scrum players {count}')\n",
    "    print(confidence_calculator(s['Tackles Made']))\n",
    "    print(f'Tackles Back players {count}')\n",
    "    print(confidence_calculator(b['Tackles Made']))\n",
    "    count +=1\n",
    "    \n"
   ]
  },
  {
   "cell_type": "code",
   "execution_count": 254,
   "metadata": {},
   "outputs": [],
   "source": [
    "#Now it's time to see if for Italy is the same result for tackles made"
   ]
  },
  {
   "cell_type": "code",
   "execution_count": 255,
   "metadata": {},
   "outputs": [
    {
     "name": "stdout",
     "output_type": "stream",
     "text": [
      "Tackles italian Scrum players 2019\n",
      "('Confidence interval is between:', (24.260662868424433, 41.73933713157557))\n",
      "Tackles italian Back players 2019\n",
      "('Confidence interval is between:', (13.404087940773659, 27.73876920208349))\n",
      "Tackles italian Scrum players 2020\n",
      "('Confidence interval is between:', (15.240334046175523, 32.577847772006294))\n",
      "Tackles italian Back players 2020\n",
      "('Confidence interval is between:', (10.963168867388585, 25.75111684689713))\n",
      "Tackles italian Scrum players 2021\n",
      "('Confidence interval is between:', (8.099369525043432, 14.567297141623236))\n",
      "Tackles italian Back players 2021\n",
      "('Confidence interval is between:', (4.551136549292167, 9.08522708707147))\n"
     ]
    }
   ],
   "source": [
    "scrum = [italian_scrum_2020, italian_scrum_2021]\n",
    "back = [italian_backs_2020,italian_backs_2021]\n",
    "years = zip(scrum,back)\n",
    "count = 2020\n",
    "\n",
    "print('Tackles italian Scrum players 2019')\n",
    "print(confidence_calculator(italian_scrum_2019['Tackles Made\\xa0']))\n",
    "print('Tackles italian Back players 2019')\n",
    "print(confidence_calculator(italian_backs_2019['Tackles Made\\xa0']))\n",
    "\n",
    "\n",
    "for s, b in years:\n",
    "    print(f'Tackles italian Scrum players {count}')\n",
    "    print(confidence_calculator(s['Tackles Made']))\n",
    "    print(f'Tackles italian Back players {count}')\n",
    "    print(confidence_calculator(b['Tackles Made']))\n",
    "    count +=1\n",
    "    \n",
    "    \n",
    "#There seems to be a quite good advantage of scrum players doing more tackles of backs, \n",
    "#as observed also for the rest of the teams."
   ]
  },
  {
   "cell_type": "code",
   "execution_count": 256,
   "metadata": {},
   "outputs": [],
   "source": [
    "#Which type of players are missing more tackles?"
   ]
  },
  {
   "cell_type": "code",
   "execution_count": 257,
   "metadata": {},
   "outputs": [
    {
     "name": "stdout",
     "output_type": "stream",
     "text": [
      "Tackles missed by Scrum players 2019\n",
      "('Confidence interval is between:', (2.0246311279537297, 4.433702205379603))\n",
      "Tackles missed by Back players 2019\n",
      "('Confidence interval is between:', (2.0480092224896183, 4.386773386206034))\n",
      "Tackles missed by Scrum players 2020\n",
      "('Confidence interval is between:', (1.2003097515029681, 2.9569936192835486))\n",
      "Tackles missed by Back players 2020\n",
      "('Confidence interval is between:', (1.9295244089251329, 4.549348830511487))\n",
      "Tackles missed by Scrum players 2021\n",
      "('Confidence interval is between:', (0.7143585158741453, 2.112308150792521))\n",
      "Tackles missed by Back players 2021\n",
      "('Confidence interval is between:', (0.8223726906240941, 2.177627309375906))\n"
     ]
    }
   ],
   "source": [
    "scrum = [scrum_players_2019,scrum_players_2020, scrum_players_2021]\n",
    "back = [back_players_2019,back_players_2020,back_players_2021]\n",
    "years = zip(scrum,back)\n",
    "count = 2019\n",
    "\n",
    "for s, b in years:\n",
    "    print(f'Tackles missed by Scrum players {count}')\n",
    "    print(confidence_calculator(s['Missed tackles']))\n",
    "    print(f'Tackles missed by Back players {count}')\n",
    "    print(confidence_calculator(b['Missed tackles']))\n",
    "    count +=1\n",
    "    \n",
    "#While in 2019 the situation was balanced, it seems that scrum players \n",
    "#improved their defensive skills\n",
    "#Back players are now missing more tackles."
   ]
  },
  {
   "cell_type": "code",
   "execution_count": 258,
   "metadata": {},
   "outputs": [],
   "source": [
    "#Are then back italian players missing more tackles?"
   ]
  },
  {
   "cell_type": "code",
   "execution_count": 259,
   "metadata": {},
   "outputs": [
    {
     "name": "stdout",
     "output_type": "stream",
     "text": [
      "Missed Tackles italian Scrum players 2019\n",
      "('Confidence interval is between:', (2.1287484599622304, 4.459486834155417))\n",
      "Missed Tackles italian Back players 2019\n",
      "('Confidence interval is between:', (1.9071698536551398, 4.521401574916289))\n",
      "Missed Tackles italian Scrum players 2020\n",
      "('Confidence interval is between:', (1.4866817261390355, 3.4224091829518737))\n",
      "Missed Tackles italian Back players 2020\n",
      "('Confidence interval is between:', (2.488786712550394, 4.654070430306749))\n",
      "Missed Tackles italian Scrum players 2021\n",
      "('Confidence interval is between:', (1.1744405753487919, 2.825559424651208))\n",
      "Missed Tackles italian Back players 2021\n",
      "('Confidence interval is between:', (1.2358561584253698, 2.945962023392812))\n"
     ]
    }
   ],
   "source": [
    "scrum = [italian_scrum_2019,italian_scrum_2020, italian_scrum_2021]\n",
    "back = [italian_backs_2019,italian_backs_2020,italian_backs_2021]\n",
    "years = zip(scrum,back)\n",
    "count = 2019\n",
    "\n",
    "\n",
    "for s, b in years:\n",
    "    print(f'Missed Tackles italian Scrum players {count}')\n",
    "    print(confidence_calculator(s['Missed tackles']))\n",
    "    print(f'Missed Tackles italian Back players {count}')\n",
    "    print(confidence_calculator(b['Missed tackles']))\n",
    "    count +=1\n",
    "    \n",
    "#They seem to follow the general trend, backs players are still missing too many tackles\n",
    "#which on a long term might be a problem.\n",
    "#Especially in 2021 the situation seemed got even worse as just after 2 matches they have such a high average.\n",
    "#Almost the same of the year before."
   ]
  },
  {
   "cell_type": "code",
   "execution_count": 260,
   "metadata": {},
   "outputs": [],
   "source": [
    "#Which type of players are doing more dominant tackles?"
   ]
  },
  {
   "cell_type": "code",
   "execution_count": 261,
   "metadata": {},
   "outputs": [
    {
     "name": "stdout",
     "output_type": "stream",
     "text": [
      "Tackles dominant by Scrum players 2019\n",
      "('Confidence interval is between:', (1.9133993164952943, 4.940767350171373))\n",
      "Tackles dominant by Back players 2019\n",
      "('Confidence interval is between:', (0.6768569922817396, 2.453577790326956))\n",
      "Tackles dominant by Scrum players 2020\n",
      "('Confidence interval is between:', (2.090533379924487, 5.167893586367648))\n",
      "Tackles dominant by Back players 2020\n",
      "('Confidence interval is between:', (0.9131148457434553, 2.241814731721333))\n",
      "Tackles dominant by Scrum players 2021\n",
      "('Confidence interval is between:', (0.07371830673655205, 0.8329483599301146))\n",
      "Tackles dominant by Back players 2021\n",
      "('Confidence interval is between:', (0.011534551061821247, 0.32179878227151204))\n"
     ]
    }
   ],
   "source": [
    "scrum = [scrum_players_2019,scrum_players_2020, scrum_players_2021]\n",
    "back = [back_players_2019,back_players_2020,back_players_2021]\n",
    "years = zip(scrum,back)\n",
    "count = 2019\n",
    "\n",
    "for s, b in years:\n",
    "    print(f'Tackles dominant by Scrum players {count}')\n",
    "    print(confidence_calculator(s['Dominant Tackles']))\n",
    "    print(f'Tackles dominant by Back players {count}')\n",
    "    print(confidence_calculator(b['Dominant Tackles']))\n",
    "    count +=1\n",
    "    \n",
    "    \n",
    "#As expected the scrum players are doing more dominant tackles."
   ]
  },
  {
   "cell_type": "code",
   "execution_count": 262,
   "metadata": {},
   "outputs": [],
   "source": [
    "#Let's eventually check if italian players are dominant on the tackles:"
   ]
  },
  {
   "cell_type": "code",
   "execution_count": 263,
   "metadata": {},
   "outputs": [
    {
     "name": "stdout",
     "output_type": "stream",
     "text": [
      "Dominant Tackles italian Scrum players 2019\n",
      "('Confidence interval is between:', (1.1190062009085695, 2.9986408579149595))\n",
      "Dominant Tackles italian Back players 2019\n",
      "('Confidence interval is between:', (0.6034140804226362, 1.3965859195773638))\n",
      "Dominant Tackles italian Scrum players 2020\n",
      "('Confidence interval is between:', (1.422375279957764, 3.6685338109513266))\n",
      "Dominant Tackles italian Back players 2020\n",
      "('Confidence interval is between:', (0.3942050013276872, 1.6057949986723128))\n",
      "Dominant Tackles italian Scrum players 2021\n",
      "('Confidence interval is between:', (0.13893518742840238, 0.6610648125715977))\n",
      "Dominant Tackles italian Back players 2021\n",
      "('Confidence interval is between:', (-0.03354867516862445, 0.21536685698680627))\n"
     ]
    }
   ],
   "source": [
    "scrum = [italian_scrum_2019,italian_scrum_2020, italian_scrum_2021]\n",
    "back = [italian_backs_2019,italian_backs_2020,italian_backs_2021]\n",
    "years = zip(scrum,back)\n",
    "count = 2019\n",
    "\n",
    "\n",
    "for s, b in years:\n",
    "    print(f'Dominant Tackles italian Scrum players {count}')\n",
    "    print(confidence_calculator(s['Dominant Tackles']))\n",
    "    print(f'Dominant Tackles italian Back players {count}')\n",
    "    print(confidence_calculator(b['Dominant Tackles']))\n",
    "    count +=1\n",
    "    \n",
    "\n",
    "#In general they seem to follow the trend even if their averages are a bit lower,\n",
    "#and in the current tournament they seem to be suffering much more than the others,\n",
    "#especially the back players are a bit behind.\n",
    "#This may be one of the reasons why Italy doesn't get to win a lot of matches\n",
    "#and especially the reason why they do not score a lot of points."
   ]
  },
  {
   "cell_type": "code",
   "execution_count": 264,
   "metadata": {},
   "outputs": [],
   "source": [
    "#I can now check who is getting the most carries (bringing the ball ahead is very important in rugby)\n",
    "#first for all the teams:"
   ]
  },
  {
   "cell_type": "code",
   "execution_count": 265,
   "metadata": {},
   "outputs": [
    {
     "name": "stdout",
     "output_type": "stream",
     "text": [
      "Carries Scrum players 2019\n",
      "('Confidence interval is between:', (11.71622167224869, 24.40877832775131))\n",
      "Carries Back players 2019\n",
      "('Confidence interval is between:', (15.198353360401926, 25.555269828003873))\n",
      "Carries Scrum players 2020\n",
      "('Confidence interval is between:', (10.724541631366993, 22.781076346161097))\n",
      "Carries Back players 2020\n",
      "('Confidence interval is between:', (12.17990621551426, 23.425727587302646))\n",
      "Carries Scrum players 2021\n",
      "('Confidence interval is between:', (5.371641133888209, 11.881692199445125))\n",
      "Carries Back players 2021\n",
      "('Confidence interval is between:', (5.642892855860303, 11.590440477473031))\n"
     ]
    }
   ],
   "source": [
    "scrum = [scrum_players_2020, scrum_players_2021]\n",
    "back = [back_players_2020,back_players_2021]\n",
    "years = zip(scrum,back)\n",
    "count = 2020\n",
    "\n",
    "print('Carries Scrum players 2019')\n",
    "print(confidence_calculator(scrum_players_2019['Carries\\xa0']))\n",
    "print('Carries Back players 2019')\n",
    "print(confidence_calculator(back_players_2019['Carries\\xa0']))\n",
    "\n",
    "\n",
    "for s, b in years:\n",
    "    print(f'Carries Scrum players {count}')\n",
    "    print(confidence_calculator(s['Carries']))\n",
    "    print(f'Carries Back players {count}')\n",
    "    print(confidence_calculator(b['Carries']))\n",
    "    count +=1\n",
    "    \n",
    "\n",
    "#Generally the situation seems balanced, just a bit on the side of back players, \n",
    "#but also because they have more chances to run with the ball."
   ]
  },
  {
   "cell_type": "code",
   "execution_count": 266,
   "metadata": {},
   "outputs": [],
   "source": [
    "#And now for Italy:"
   ]
  },
  {
   "cell_type": "code",
   "execution_count": 267,
   "metadata": {},
   "outputs": [
    {
     "name": "stdout",
     "output_type": "stream",
     "text": [
      "Carries by italian Scrum players 2019\n",
      "('Confidence interval is between:', (14.626858456106195, 28.66725919095263))\n",
      "Carries by italian Back players 2019\n",
      "('Confidence interval is between:', (11.594692610141848, 23.548164532715298))\n",
      "Carries by italian Scrum players 2020\n",
      "('Confidence interval is between:', (8.726629700872738, 22.000643026399988))\n",
      "Carries by italian Back players 2020\n",
      "('Confidence interval is between:', (12.481924903470581, 25.660932239386565))\n",
      "Carries by italian Scrum players 2021\n",
      "('Confidence interval is between:', (5.233428501813341, 10.499904831519991))\n",
      "Carries by italian Back players 2021\n",
      "('Confidence interval is between:', (8.029132902835585, 13.970867097164415))\n"
     ]
    }
   ],
   "source": [
    "scrum = [italian_scrum_2020, italian_scrum_2021]\n",
    "back = [italian_backs_2020,italian_backs_2021]\n",
    "years = zip(scrum,back)\n",
    "count = 2020\n",
    "\n",
    "print('Carries by italian Scrum players 2019')\n",
    "print(confidence_calculator(italian_scrum_2019['Carries\\xa0']))\n",
    "print('Carries by italian Back players 2019')\n",
    "print(confidence_calculator(italian_backs_2019['Carries\\xa0']))\n",
    "\n",
    "\n",
    "for s, b in years:\n",
    "    print(f'Carries by italian Scrum players {count}')\n",
    "    print(confidence_calculator(s['Carries']))\n",
    "    print(f'Carries by italian Back players {count}')\n",
    "    print(confidence_calculator(b['Carries']))\n",
    "    count +=1\n",
    "    \n",
    "#Ok here we might actually have something, it seems that the scrum players cannot really carry\n",
    "#the ball for a lot of meters, which is a huge problem in rugby because they're the players supposed\n",
    "#to create breaks where then the backs can run into, and this trend got inverted since 2019 when they\n",
    "#were carrying more.\n",
    "#To be at the level of the other teams these values should be more balanced."
   ]
  },
  {
   "cell_type": "code",
   "execution_count": 268,
   "metadata": {},
   "outputs": [
    {
     "data": {
      "text/plain": [
       "Ttest_indResult(statistic=2.5610175277834193, pvalue=0.02369340007629521)"
      ]
     },
     "execution_count": 268,
     "metadata": {},
     "output_type": "execute_result"
    }
   ],
   "source": [
    "#It might be useful now to check on the main table if actually the carries are influencing the points scored.\n",
    "\n",
    "\n",
    "low_score = mixed_table[mixed_table['Scored']<70]\n",
    "high_score = mixed_table[mixed_table['Scored']>100]\n",
    "\n",
    "low_s_carry = low_score['Carries']\n",
    "high_s_carry = high_score['Carries']\n",
    "stats.ttest_ind(high_s_carry,low_s_carry)\n",
    "\n",
    "#We can reject the null hypothesis."
   ]
  },
  {
   "cell_type": "code",
   "execution_count": 269,
   "metadata": {},
   "outputs": [
    {
     "data": {
      "text/html": [
       "<div>\n",
       "<style scoped>\n",
       "    .dataframe tbody tr th:only-of-type {\n",
       "        vertical-align: middle;\n",
       "    }\n",
       "\n",
       "    .dataframe tbody tr th {\n",
       "        vertical-align: top;\n",
       "    }\n",
       "\n",
       "    .dataframe thead th {\n",
       "        text-align: right;\n",
       "    }\n",
       "</style>\n",
       "<table border=\"1\" class=\"dataframe\">\n",
       "  <thead>\n",
       "    <tr style=\"text-align: right;\">\n",
       "      <th></th>\n",
       "      <th>Nationality</th>\n",
       "      <th>PLAYER</th>\n",
       "      <th>Minutes played</th>\n",
       "      <th>Tries</th>\n",
       "      <th>Conversions</th>\n",
       "      <th>Carries</th>\n",
       "      <th>Passes</th>\n",
       "      <th>Knock Ons</th>\n",
       "      <th>Tackles Made</th>\n",
       "      <th>Missed tackles</th>\n",
       "      <th>Dominant Tackles</th>\n",
       "      <th>Year</th>\n",
       "      <th>Position</th>\n",
       "    </tr>\n",
       "  </thead>\n",
       "  <tbody>\n",
       "    <tr>\n",
       "      <th>0</th>\n",
       "      <td>Italy</td>\n",
       "      <td>Jayden Hayward</td>\n",
       "      <td>400</td>\n",
       "      <td>0</td>\n",
       "      <td>0</td>\n",
       "      <td>42</td>\n",
       "      <td>52</td>\n",
       "      <td>2</td>\n",
       "      <td>26</td>\n",
       "      <td>3</td>\n",
       "      <td>1</td>\n",
       "      <td>2019</td>\n",
       "      <td>1</td>\n",
       "    </tr>\n",
       "    <tr>\n",
       "      <th>1</th>\n",
       "      <td>Ireland</td>\n",
       "      <td>Peter O'Mahony</td>\n",
       "      <td>400</td>\n",
       "      <td>0</td>\n",
       "      <td>0</td>\n",
       "      <td>32</td>\n",
       "      <td>25</td>\n",
       "      <td>2</td>\n",
       "      <td>50</td>\n",
       "      <td>6</td>\n",
       "      <td>2</td>\n",
       "      <td>2019</td>\n",
       "      <td>0</td>\n",
       "    </tr>\n",
       "    <tr>\n",
       "      <th>2</th>\n",
       "      <td>England</td>\n",
       "      <td>Elliot Daly</td>\n",
       "      <td>400</td>\n",
       "      <td>1</td>\n",
       "      <td>0</td>\n",
       "      <td>45</td>\n",
       "      <td>38</td>\n",
       "      <td>3</td>\n",
       "      <td>12</td>\n",
       "      <td>6</td>\n",
       "      <td>2</td>\n",
       "      <td>2019</td>\n",
       "      <td>1</td>\n",
       "    </tr>\n",
       "    <tr>\n",
       "      <th>3</th>\n",
       "      <td>Wales</td>\n",
       "      <td>Josh Adams</td>\n",
       "      <td>400</td>\n",
       "      <td>3</td>\n",
       "      <td>0</td>\n",
       "      <td>39</td>\n",
       "      <td>9</td>\n",
       "      <td>3</td>\n",
       "      <td>17</td>\n",
       "      <td>4</td>\n",
       "      <td>2</td>\n",
       "      <td>2019</td>\n",
       "      <td>1</td>\n",
       "    </tr>\n",
       "    <tr>\n",
       "      <th>4</th>\n",
       "      <td>Wales</td>\n",
       "      <td>Jonathan Davies</td>\n",
       "      <td>400</td>\n",
       "      <td>1</td>\n",
       "      <td>0</td>\n",
       "      <td>26</td>\n",
       "      <td>16</td>\n",
       "      <td>1</td>\n",
       "      <td>47</td>\n",
       "      <td>5</td>\n",
       "      <td>3</td>\n",
       "      <td>2019</td>\n",
       "      <td>1</td>\n",
       "    </tr>\n",
       "  </tbody>\n",
       "</table>\n",
       "</div>"
      ],
      "text/plain": [
       "  Nationality            PLAYER  Minutes played  Tries  Conversions  Carries   \\\n",
       "0       Italy    Jayden Hayward             400      0            0        42   \n",
       "1     Ireland    Peter O'Mahony             400      0            0        32   \n",
       "2     England       Elliot Daly             400      1            0        45   \n",
       "3       Wales        Josh Adams             400      3            0        39   \n",
       "4       Wales   Jonathan Davies             400      1            0        26   \n",
       "\n",
       "   Passes  Knock Ons   Tackles Made   Missed tackles  Dominant Tackles  Year  \\\n",
       "0      52           2             26               3                 1  2019   \n",
       "1      25           2             50               6                 2  2019   \n",
       "2      38           3             12               6                 2  2019   \n",
       "3       9           3             17               4                 2  2019   \n",
       "4      16           1             47               5                 3  2019   \n",
       "\n",
       "   Position  \n",
       "0         1  \n",
       "1         0  \n",
       "2         1  \n",
       "3         1  \n",
       "4         1  "
      ]
     },
     "execution_count": 269,
     "metadata": {},
     "output_type": "execute_result"
    }
   ],
   "source": [
    "#One last thing I would like to check is the accurancy of Italy and of the other teams on average when they \n",
    "#have a free kick.\n",
    "\n",
    "players_2019.head()"
   ]
  },
  {
   "cell_type": "code",
   "execution_count": 270,
   "metadata": {},
   "outputs": [],
   "source": [
    "kickers_2019 = players_2019[players_2019['Conversions']>0]\n",
    "kickers_2020 = players_2020[players_2020['Conversions']>0]\n",
    "kickers_2021 = players_2021[players_2021['Conversions']>0]"
   ]
  },
  {
   "cell_type": "code",
   "execution_count": 271,
   "metadata": {},
   "outputs": [],
   "source": [
    "other_kickers_2019 = kickers_2019[kickers_2019['Nationality']!='Italy']\n",
    "other_kickers_2020 = kickers_2020[kickers_2020['Nationality']!='Italy']\n",
    "other_kickers_2021 = kickers_2021[kickers_2021['Nationality']!='Italy']"
   ]
  },
  {
   "cell_type": "code",
   "execution_count": 272,
   "metadata": {},
   "outputs": [],
   "source": [
    "italian_kickers_2019 = kickers_2019[kickers_2019['Nationality']=='Italy']\n",
    "italian_kickers_2020 = kickers_2020[kickers_2020['Nationality']=='Italy']\n",
    "italian_kickers_2021 = kickers_2021[kickers_2021['Nationality']=='Italy']"
   ]
  },
  {
   "cell_type": "code",
   "execution_count": null,
   "metadata": {},
   "outputs": [],
   "source": [
    "\n"
   ]
  },
  {
   "cell_type": "code",
   "execution_count": 273,
   "metadata": {},
   "outputs": [
    {
     "name": "stdout",
     "output_type": "stream",
     "text": [
      "Kickers average conversion for 2019\n",
      "('Confidence interval is between:', (2.3482290401628756, 5.366056674122839))\n",
      "Kickers average conversion for 2020\n",
      "('Confidence interval is between:', (4.0661378131060655, 7.48941774244949))\n",
      "Kickers average conversion for 2021\n",
      "('Confidence interval is between:', (1.6224198883746994, 3.520437254482444))\n"
     ]
    }
   ],
   "source": [
    "print('Kickers average conversion for 2019')\n",
    "print(confidence_calculator(other_kickers_2019['Conversions']))\n",
    "print('Kickers average conversion for 2020')\n",
    "print(confidence_calculator(other_kickers_2020['Conversions']))\n",
    "print('Kickers average conversion for 2021')\n",
    "print(confidence_calculator(other_kickers_2021['Conversions']))"
   ]
  },
  {
   "cell_type": "code",
   "execution_count": 274,
   "metadata": {},
   "outputs": [
    {
     "name": "stdout",
     "output_type": "stream",
     "text": [
      "Italian conversions 2019:\n",
      "4\n",
      "Italian conversions 2020:\n",
      "4\n",
      "Italian conversions 2021:\n",
      "2\n"
     ]
    }
   ],
   "source": [
    "print('Italian conversions 2019:')\n",
    "print((italian_kickers_2019['Conversions']).sum())\n",
    "print('Italian conversions 2020:')\n",
    "print((italian_kickers_2020['Conversions']).sum())\n",
    "print('Italian conversions 2021:')\n",
    "print((italian_kickers_2021['Conversions']).sum())\n",
    "\n",
    "#It is pointless to check the confidence here as Italy has just one kicker or max two,\n",
    "#but we can see that in 2019 the main kicker managed to score 4 free kicks,\n",
    "#whereas in 2020 were needed two players to score the same amount, which means that probably the same kicker \n",
    "#could not keep the same average\n",
    "#and now in 2021 they are keeping the same average.\n",
    "#But we can notice that the conversions scored by Italy are drastically getting worse."
   ]
  },
  {
   "cell_type": "code",
   "execution_count": 289,
   "metadata": {},
   "outputs": [
    {
     "data": {
      "text/plain": [
       "Ttest_indResult(statistic=2.0320954123037342, pvalue=0.0630989066582577)"
      ]
     },
     "execution_count": 289,
     "metadata": {},
     "output_type": "execute_result"
    }
   ],
   "source": [
    "#Let's also check how many missed conversions the other teams have compared to Italy:\n",
    "#Does it mean to score more points overall?\n",
    "\n",
    "high_scoring = mixed_table[mixed_table['Scored']>100]\n",
    "low_scoring = mixed_table[mixed_table['Scored']<70]\n",
    "low_s_conversions = low_scoring['Missed Conversions']\n",
    "high_s_conversions = high_scoring['Missed Conversions']\n",
    "stats.ttest_ind(high_s_conversions,low_s_conversions)\n",
    "\n",
    "#It seems like they have a connection!"
   ]
  },
  {
   "cell_type": "code",
   "execution_count": 275,
   "metadata": {},
   "outputs": [
    {
     "data": {
      "text/plain": [
       "['Nationality',\n",
       " 'PLAYER',\n",
       " 'Minutes played',\n",
       " 'Tries',\n",
       " 'Conversions',\n",
       " 'Carries\\xa0',\n",
       " 'Passes',\n",
       " 'Knock Ons\\xa0',\n",
       " 'Tackles Made\\xa0',\n",
       " 'Missed tackles',\n",
       " 'Dominant Tackles',\n",
       " 'Year',\n",
       " 'Position']"
      ]
     },
     "execution_count": 275,
     "metadata": {},
     "output_type": "execute_result"
    }
   ],
   "source": [
    "list(players_2019.columns)\n",
    "#back_players_2019['Nationality']"
   ]
  },
  {
   "cell_type": "code",
   "execution_count": 282,
   "metadata": {},
   "outputs": [
    {
     "data": {
      "text/plain": [
       "Index(['Position', 'Team', 'Matches', 'W', 'D', 'L', 'Scored', 'Conceded',\n",
       "       'Diff', 'Tries', 'Tries conceded', 'Points/visit to opposition 22',\n",
       "       'Conversions', 'Missed Conversions', 'Carries', 'Line breaks', 'Passes',\n",
       "       'Knock Ons', 'Attempted Tackles', 'Tackles Made', 'Dominant Tackles',\n",
       "       'Total points', 'Possession', 'Year'],\n",
       "      dtype='object')"
      ]
     },
     "execution_count": 282,
     "metadata": {},
     "output_type": "execute_result"
    }
   ],
   "source": [
    "mixed_table.columns"
   ]
  }
 ],
 "metadata": {
  "kernelspec": {
   "display_name": "Python 3",
   "language": "python",
   "name": "python3"
  },
  "language_info": {
   "codemirror_mode": {
    "name": "ipython",
    "version": 3
   },
   "file_extension": ".py",
   "mimetype": "text/x-python",
   "name": "python",
   "nbconvert_exporter": "python",
   "pygments_lexer": "ipython3",
   "version": "3.8.5"
  }
 },
 "nbformat": 4,
 "nbformat_minor": 4
}
